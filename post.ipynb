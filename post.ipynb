{
 "cells": [
  {
   "cell_type": "code",
   "execution_count": 8,
   "id": "b28fb002",
   "metadata": {},
   "outputs": [],
   "source": [
    "import pandas as pd "
   ]
  },
  {
   "cell_type": "code",
   "execution_count": 9,
   "id": "4e3c85a6",
   "metadata": {},
   "outputs": [],
   "source": [
    "data = pd.read_csv(\"post.csv\")\n"
   ]
  },
  {
   "cell_type": "code",
   "execution_count": 10,
   "id": "8af34d45",
   "metadata": {},
   "outputs": [
    {
     "data": {
      "text/html": [
       "<div>\n",
       "<style scoped>\n",
       "    .dataframe tbody tr th:only-of-type {\n",
       "        vertical-align: middle;\n",
       "    }\n",
       "\n",
       "    .dataframe tbody tr th {\n",
       "        vertical-align: top;\n",
       "    }\n",
       "\n",
       "    .dataframe thead th {\n",
       "        text-align: right;\n",
       "    }\n",
       "</style>\n",
       "<table border=\"1\" class=\"dataframe\">\n",
       "  <thead>\n",
       "    <tr style=\"text-align: right;\">\n",
       "      <th></th>\n",
       "      <th>TITLE</th>\n",
       "      <th>DESCRIPTION</th>\n",
       "      <th>CONTENT</th>\n",
       "      <th>CATEGORY</th>\n",
       "      <th>TAGS</th>\n",
       "    </tr>\n",
       "  </thead>\n",
       "  <tbody>\n",
       "    <tr>\n",
       "      <th>0</th>\n",
       "      <td>derby</td>\n",
       "      <td>wac vs rca</td>\n",
       "      <td>the derby beetwen; two big clubs in morocco ca...</td>\n",
       "      <td>Sports</td>\n",
       "      <td>casa;wac;rca</td>\n",
       "    </tr>\n",
       "    <tr>\n",
       "      <th>1</th>\n",
       "      <td>ee</td>\n",
       "      <td>ee</td>\n",
       "      <td>eeeee ee e</td>\n",
       "      <td>Business</td>\n",
       "      <td>ee</td>\n",
       "    </tr>\n",
       "    <tr>\n",
       "      <th>2</th>\n",
       "      <td>gdjdj</td>\n",
       "      <td>kut</td>\n",
       "      <td>:jgml</td>\n",
       "      <td>Music</td>\n",
       "      <td>;fl</td>\n",
       "    </tr>\n",
       "    <tr>\n",
       "      <th>3</th>\n",
       "      <td>hiba</td>\n",
       "      <td>student</td>\n",
       "      <td>azerttyy v gj ;iuro</td>\n",
       "      <td>Book</td>\n",
       "      <td>study;book</td>\n",
       "    </tr>\n",
       "    <tr>\n",
       "      <th>4</th>\n",
       "      <td>CASABLANCA</td>\n",
       "      <td>CASA</td>\n",
       "      <td>CASABLANCA MAROC?</td>\n",
       "      <td>Travel</td>\n",
       "      <td>MAROC</td>\n",
       "    </tr>\n",
       "    <tr>\n",
       "      <th>5</th>\n",
       "      <td>ZEFAE</td>\n",
       "      <td>AEFA</td>\n",
       "      <td>AEFF</td>\n",
       "      <td>Business</td>\n",
       "      <td>AFEFA</td>\n",
       "    </tr>\n",
       "  </tbody>\n",
       "</table>\n",
       "</div>"
      ],
      "text/plain": [
       "        TITLE DESCRIPTION                                            CONTENT  \\\n",
       "0       derby  wac vs rca  the derby beetwen; two big clubs in morocco ca...   \n",
       "1          ee          ee                                         eeeee ee e   \n",
       "2       gdjdj         kut                                              :jgml   \n",
       "3        hiba     student                                azerttyy v gj ;iuro   \n",
       "4  CASABLANCA        CASA                                  CASABLANCA MAROC?   \n",
       "5       ZEFAE        AEFA                                               AEFF   \n",
       "\n",
       "   CATEGORY          TAGS  \n",
       "0    Sports  casa;wac;rca  \n",
       "1  Business            ee  \n",
       "2     Music           ;fl  \n",
       "3      Book    study;book  \n",
       "4    Travel         MAROC  \n",
       "5  Business         AFEFA  "
      ]
     },
     "execution_count": 10,
     "metadata": {},
     "output_type": "execute_result"
    }
   ],
   "source": [
    "data"
   ]
  },
  {
   "cell_type": "code",
   "execution_count": 13,
   "id": "25ebf9fa",
   "metadata": {},
   "outputs": [
    {
     "name": "stdout",
     "output_type": "stream",
     "text": [
      "ee\n",
      "ZEFAE\n"
     ]
    }
   ],
   "source": [
    "for i in range(len(data)):\n",
    "    if data[\"CATEGORY\"][i] == \"Business\":\n",
    "        print(data[\"TITLE\"][i])"
   ]
  },
  {
   "cell_type": "code",
   "execution_count": null,
   "id": "89a74706",
   "metadata": {},
   "outputs": [],
   "source": []
  }
 ],
 "metadata": {
  "kernelspec": {
   "display_name": "Python 3 (ipykernel)",
   "language": "python",
   "name": "python3"
  },
  "language_info": {
   "codemirror_mode": {
    "name": "ipython",
    "version": 3
   },
   "file_extension": ".py",
   "mimetype": "text/x-python",
   "name": "python",
   "nbconvert_exporter": "python",
   "pygments_lexer": "ipython3",
   "version": "3.9.12"
  }
 },
 "nbformat": 4,
 "nbformat_minor": 5
}
